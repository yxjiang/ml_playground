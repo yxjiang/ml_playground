{
 "cells": [
  {
   "cell_type": "code",
   "execution_count": 1,
   "metadata": {
    "tags": []
   },
   "outputs": [
    {
     "name": "stdout",
     "output_type": "stream",
     "text": [
      "/home/yxjiang/source/ml_playground\n"
     ]
    }
   ],
   "source": [
    "# data downloading\n",
    "import data_util\n",
    "import pandas as pd\n",
    "from collections import defaultdict\n",
    "import os\n",
    "import sys\n",
    "\n",
    "os.chdir(\"/home/yxjiang/source/ml_playground\")\n",
    "print(os.getcwd())\n",
    "\n",
    "from util import config"
   ]
  },
  {
   "cell_type": "code",
   "execution_count": 2,
   "metadata": {
    "tags": []
   },
   "outputs": [
    {
     "name": "stdout",
     "output_type": "stream",
     "text": [
      "Destination folder [/tmp/data] exists.\n",
      "Target file [aclImdb_v1.tar.gz] exists, skip downloading.\n",
      "Start to extract [/tmp/data/aclImdb_v1.tar.gz] to [/tmp/data]...\n",
      "File extracted\n",
      "Processing vocabulary from [/tmp/data/aclImdb].\n",
      "There size of vocabulary is : 89527\n"
     ]
    }
   ],
   "source": [
    "dataset_url=\"https://ai.stanford.edu/~amaas/data/sentiment/aclImdb_v1.tar.gz\"\n",
    "\n",
    "dest_dir = \"/tmp/data\"\n",
    "dataset_folder_path = os.path.join(dest_dir, \"aclImdb\")\n",
    "data_util.download_data(url=dataset_url, dest_dir=dest_dir)\n",
    "\n",
    "# generate word to id mapping\n",
    "word_to_id, word_list = data_util.get_vocabulary(folder_path=dataset_folder_path, file_suffix=\"vocab\")\n",
    "print(\"There size of vocabulary is :\", len(word_to_id))"
   ]
  },
  {
   "cell_type": "code",
   "execution_count": null,
   "metadata": {
    "tags": []
   },
   "outputs": [],
   "source": [
    "# put everything together\n",
    "import time\n",
    "from data_util import *\n",
    "from models import *\n",
    "from trainer import classification_trainer\n",
    "from util import config\n",
    "\n",
    "import torch.optim as optim\n",
    "import torch.nn.functional as F\n",
    "\n",
    "\n",
    "def run(rnn_type, checkpoint_prefix, **kwargs):\n",
    "    cfg = config.Config(\n",
    "        rnn_type=rnn_type,\n",
    "        criteria=nn.CrossEntropyLoss, optimizer=optim.Adam, lr=0.00002, epochs=200, \n",
    "        batch_size=128, num_classes=2, sentence_max_length=20, word_embedding_length=128, \n",
    "        activation=F.relu, dropout=0.1, **kwargs\n",
    "    )\n",
    "\n",
    "    pos_train_data_folder = os.path.join(dataset_folder_path, \"train/pos\")\n",
    "    neg_train_data_folder = os.path.join(dataset_folder_path, \"train/neg\")\n",
    "    train_dataset = MovieReviewDataset(cfg, pos_train_data_folder, neg_train_data_folder, word_to_id, \n",
    "                                transform=transforms.Compose([\n",
    "                                    TruncateTransform(cfg), \n",
    "                                    WordsToIdsTransform(cfg, word_to_id),\n",
    "                                ]))\n",
    "\n",
    "    pos_test_data_folder = os.path.join(dataset_folder_path, \"test/pos\")\n",
    "    neg_test_data_folder = os.path.join(dataset_folder_path, \"test/neg\")\n",
    "    test_dataset = MovieReviewDataset(cfg, pos_test_data_folder, neg_test_data_folder, word_to_id, \n",
    "                                transform=transforms.Compose([\n",
    "                                    TruncateTransform(cfg), \n",
    "                                    WordsToIdsTransform(cfg, word_to_id),\n",
    "                                ]))\n",
    "\n",
    "    train_dataloader = DataLoader(dataset=train_dataset, batch_size=cfg.batch_size, shuffle=True, collate_fn=data_util.pad_collate)\n",
    "    test_dataloader = DataLoader(dataset=test_dataset, batch_size=cfg.batch_size, collate_fn=data_util.pad_collate)\n",
    "\n",
    "    # model = TextCNN(cfg, len(word_to_id)).to(device)\n",
    "    model = RNN(cfg, len(word_list)).to(cfg.device)\n",
    "\n",
    "    classification_trainer.train(model=model, config=cfg, train_dataloader=train_dataloader, test_dataloader=test_dataloader, checkpoint_prefix=checkpoint_prefix, check_interval=10, kwargs=kwargs)\n",
    "\n",
    "# run(rnn_type=nn.GRU, num_layers=3, num_directions=2)\n",
    "# run(rnn_type=nn.GRU, num_layers=1, num_directions=1)\n",
    "# run(nn.LSTM, num_layers=3, num_directions=2)\n",
    "run(nn.LSTM, checkpoint_prefix='lstm', num_layers=1, num_directions=1, existing_checkpoint_filepath='/tmp/model/lstm_80.ckpt')"
   ]
  },
  {
   "cell_type": "code",
   "execution_count": 53,
   "metadata": {
    "tags": []
   },
   "outputs": [
    {
     "name": "stdout",
     "output_type": "stream",
     "text": [
      "Size (MB): 46.401636\n",
      "Meauring inference time, 6400/25088 samples processed...\n",
      "Meauring inference time, 12800/25088 samples processed...\n",
      "Meauring inference time, 19200/25088 samples processed...\n",
      "vanilla model time spent: 5141965ms, average speed: 205ms/sample.\n",
      "Size (MB): 45.984401\n",
      "Meauring inference time, 6400/25088 samples processed...\n",
      "Meauring inference time, 12800/25088 samples processed...\n",
      "Meauring inference time, 19200/25088 samples processed...\n",
      "dynamic model time spent: 4839591ms, average speed: 193ms/sample.\n"
     ]
    }
   ],
   "source": [
    "# Profiling model performance\n",
    "import torch\n",
    "import torch.nn as nn\n",
    "import torch.optim as optim\n",
    "import torch.nn.functional as F\n",
    "\n",
    "from data_util import *\n",
    "from models import *\n",
    "from util import config\n",
    "\n",
    "import torch.autograd.profiler as profiler\n",
    "\n",
    "cfg = config.Config(\n",
    "    rnn_type=nn.LSTM,\n",
    "    criteria=nn.CrossEntropyLoss, optimizer=optim.Adam, lr=0.00002, epochs=200, \n",
    "    batch_size=128, num_classes=2, sentence_max_length=20, word_embedding_length=128, \n",
    "    activation=F.relu, dropout=0.1, num_layers=1, num_directions=1,\n",
    ")\n",
    "\n",
    "# Load the model\n",
    "checkpoint = torch.load('/tmp/model/lstm_80.ckpt')\n",
    "cfg.device = 'cpu'\n",
    "model = RNN(cfg, len(word_list)).to(cfg.device)\n",
    "model.load_state_dict(checkpoint['state_dict'])\n",
    "\n",
    "# load the data\n",
    "pos_train_data_folder = os.path.join(dataset_folder_path, \"train/pos\")\n",
    "neg_train_data_folder = os.path.join(dataset_folder_path, \"train/neg\")\n",
    "train_dataset = MovieReviewDataset(\n",
    "    cfg, pos_train_data_folder, neg_train_data_folder, word_to_id, \n",
    "    transform=transforms.Compose([\n",
    "        TruncateTransform(cfg), \n",
    "        WordsToIdsTransform(cfg, word_to_id),\n",
    "    ]))\n",
    "train_dataloader = DataLoader(dataset=train_dataset, batch_size=cfg.batch_size, shuffle=True, collate_fn=data_util.pad_collate)\n",
    "\n",
    "\n",
    "with profiler.profile(record_shapes=True) as prof:\n",
    "    with profiler.record_function(\"model_inference\"):\n",
    "        word_ids, labels, x_lens, y_lens = next(iter(train_dataloader))\n",
    "        model(word_ids.to(cfg.device), x_lens)\n",
    "\n",
    "# print(prof.key_averages(group_by_input_shape=True).table(sort_by=\"cpu_time_total\", row_limit=10))\n",
    "\n",
    "prof.export_chrome_trace(\"trace.json\")\n",
    "\n",
    "\n",
    "def measure_inference_time(model, cfg, epochs=1):\n",
    "    \"\"\"\n",
    "    Measure the inference time.\n",
    "    \"\"\"\n",
    "    # print model size\n",
    "    torch.save(model.state_dict(), \"/tmp/temp.p\")\n",
    "    print('Size (MB):', os.path.getsize(\"/tmp/temp.p\")/1e6)\n",
    "    os.remove('/tmp/temp.p')\n",
    "    import datetime\n",
    "    # load the data\n",
    "    pos_train_data_folder = os.path.join(dataset_folder_path, \"train/pos\")\n",
    "    neg_train_data_folder = os.path.join(dataset_folder_path, \"train/neg\")\n",
    "    train_dataset = MovieReviewDataset(\n",
    "        cfg, pos_train_data_folder, neg_train_data_folder, word_to_id, \n",
    "        transform=transforms.Compose([\n",
    "            TruncateTransform(cfg), \n",
    "            WordsToIdsTransform(cfg, word_to_id),\n",
    "        ]))\n",
    "    train_dataloader = DataLoader(dataset=train_dataset, batch_size=cfg.batch_size, shuffle=True, collate_fn=data_util.pad_collate)\n",
    "    time_in_ms = 0\n",
    "    total_processed = 0\n",
    "    count = 0\n",
    "    model.eval()\n",
    "    for _ in range(epochs):\n",
    "        for word_ids, labels, x_lens, y_lens in train_dataloader:\n",
    "            word_ids = word_ids.to(cfg.device)\n",
    "            start_time = datetime.datetime.now()\n",
    "            model(word_ids, x_lens)\n",
    "            time_in_ms += (datetime.datetime.now() - start_time).microseconds\n",
    "            count += 1\n",
    "            total_processed += len(labels)\n",
    "            if count % 50 == 0:\n",
    "                print('Meauring inference time, %d/%d samples processed...' % (total_processed, epochs * len(train_dataloader) * cfg.batch_size))\n",
    "    return time_in_ms, total_processed\n",
    "\n",
    "time_in_ms, total_processed = measure_inference_time(model.to(cfg.device), cfg)\n",
    "print('vanilla model time spent: %dms, average speed: %dms/sample.' % (time_in_ms, time_in_ms / total_processed))\n",
    "\n",
    "# dynamic quantization\n",
    "import torch.quantization\n",
    "dynamic_quantized_model = torch.quantization.quantize_dynamic(model.to('cpu'), dtype=torch.qint8)\n",
    "time_in_ms, total_processed = measure_inference_time(dynamic_quantized_model, cfg)\n",
    "print('dynamic model time spent: %dms, average speed: %dms/sample.' % (time_in_ms, time_in_ms / total_processed))\n",
    "\n",
    "# # post-training static quantization\n",
    "# model.eval()\n",
    "# model.qconfig = torch.quantization.get_default_qconfig('fbgemm')\n",
    "# torch.quantization.prepare(model, inplace=True)\n",
    "# measure_inference_time(model, cfg)  # calibrate with training data\n",
    "# torch.quantization.convert(model, inplace=True)\n",
    "# time_in_ms, total_processed = measure_inference_time(model, cfg)\n",
    "# print('static model time spent: %dms, average speed: %dms/sample.' % (time_in_ms, time_in_ms / total_processed))\n",
    "\n",
    "\n"
   ]
  },
  {
   "cell_type": "code",
   "execution_count": 56,
   "metadata": {},
   "outputs": [
    {
     "ename": "TypeError",
     "evalue": "__init__() got an unexpected keyword argument 'd_model'",
     "output_type": "error",
     "traceback": [
      "\u001b[0;31m---------------------------------------------------------------------------\u001b[0m",
      "\u001b[0;31mTypeError\u001b[0m                                 Traceback (most recent call last)",
      "\u001b[0;32m<ipython-input-56-60ff221d0284>\u001b[0m in \u001b[0;36m<module>\u001b[0;34m\u001b[0m\n\u001b[1;32m      2\u001b[0m \u001b[0;32mfrom\u001b[0m \u001b[0mmodels\u001b[0m \u001b[0;32mimport\u001b[0m \u001b[0;34m*\u001b[0m\u001b[0;34m\u001b[0m\u001b[0;34m\u001b[0m\u001b[0m\n\u001b[1;32m      3\u001b[0m \u001b[0;34m\u001b[0m\u001b[0m\n\u001b[0;32m----> 4\u001b[0;31m \u001b[0mposition_embedding\u001b[0m \u001b[0;34m=\u001b[0m \u001b[0mPositionEncoding\u001b[0m\u001b[0;34m(\u001b[0m\u001b[0md_model\u001b[0m\u001b[0;34m=\u001b[0m\u001b[0;36m512\u001b[0m\u001b[0;34m,\u001b[0m \u001b[0mdropout\u001b[0m\u001b[0;34m=\u001b[0m\u001b[0;36m0.1\u001b[0m\u001b[0;34m,\u001b[0m \u001b[0mmax_len\u001b[0m\u001b[0;34m=\u001b[0m\u001b[0;36m5000\u001b[0m\u001b[0;34m)\u001b[0m\u001b[0;34m\u001b[0m\u001b[0;34m\u001b[0m\u001b[0m\n\u001b[0m",
      "\u001b[0;31mTypeError\u001b[0m: __init__() got an unexpected keyword argument 'd_model'"
     ]
    }
   ],
   "source": [
    "# test transformer\n",
    "from models import *\n",
    "\n",
    "PositionEncoding()\n",
    "# position_embedding = PositionEncoding(d_model=512, dropout=0.1, max_len=5000)"
   ]
  },
  {
   "cell_type": "code",
   "execution_count": null,
   "metadata": {},
   "outputs": [],
   "source": []
  }
 ],
 "metadata": {
  "kernelspec": {
   "display_name": "base",
   "language": "python",
   "name": "python3"
  },
  "language_info": {
   "codemirror_mode": {
    "name": "ipython",
    "version": 3
   },
   "file_extension": ".py",
   "mimetype": "text/x-python",
   "name": "python",
   "nbconvert_exporter": "python",
   "pygments_lexer": "ipython3",
   "version": "3.9.13 | packaged by conda-forge | (main, May 27 2022, 17:00:33) \n[Clang 13.0.1 ]"
  },
  "vscode": {
   "interpreter": {
    "hash": "c49e8dbf2057f2dc5223e731427a684c0a636d08854e74555f004192be4f5d78"
   }
  }
 },
 "nbformat": 4,
 "nbformat_minor": 4
}

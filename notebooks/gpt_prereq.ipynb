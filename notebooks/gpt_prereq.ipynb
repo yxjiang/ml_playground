{
 "cells": [
  {
   "cell_type": "code",
   "execution_count": 2,
   "metadata": {},
   "outputs": [],
   "source": [
    "import torch\n",
    "import torch.nn as nn\n",
    "from torch.nn import functional as F"
   ]
  },
  {
   "cell_type": "code",
   "execution_count": 8,
   "metadata": {},
   "outputs": [],
   "source": [
    "\n",
    "# the mathematical trick in self-attention\n",
    "B, T, C = 4, 8, 2  # batch, time, channels\n",
    "x_batch = torch.randn(B, T, C)\n",
    "x_batch.shape\n",
    "\n",
    "# version 1: x[b, t] = mean_{i <= t} x[b, i], aggregate the channel dimension.\n",
    "xbow = torch.zeros(B, T, C)\n",
    "for b in range(B):\n",
    "    for t in range(T):\n",
    "        xprev = x_batch[b, :t + 1]\n",
    "        xbow[b, t] = torch.mean(xprev, dim=0)"
   ]
  },
  {
   "cell_type": "code",
   "execution_count": 10,
   "metadata": {},
   "outputs": [],
   "source": [
    "# version 2: optimize the performance with matrix operation\n",
    "weight2 = torch.tril(torch.ones(T, T))\n",
    "weight2 = weight2 / weight2.sum(dim=1, keepdim=True)\n",
    "xbow2 = weight2 @ x_batch  # (*B, T, T) @ (B, T, C) -> (B, T, C)  pytorch will extend the batch dimension\n",
    "\n",
    "# version 3: use softmax\n",
    "tril = torch.tril(torch.ones(T, T))\n",
    "weight3 = torch.zeros(T, T)\n",
    "weight3 = weight3.masked_fill(tril == 0, float('-inf'))\n",
    "weight3 = F.softmax(weight3, dim=-1)\n",
    "xbow3 = weight3 @ x_batch"
   ]
  },
  {
   "attachments": {},
   "cell_type": "markdown",
   "metadata": {},
   "source": [
    "Notes:\n",
    "* Attention is a communication mechanism. Can be seen as nodes in a directed graph looking at each other and aggregating information with a weighted sum from all nodes that point to them, with data-dependent weights.\n",
    "* There is no notion of space. Attention simply acts over a set of vectors. This is why we need to positionally encode tokens.\n",
    "* Each example across batch dimension is processed completely independently and never communicate with each other. \n",
    "* \"self-attention\" just means that they keys and values are produced from the same source as queries. In \"cross-attention\", the queries still get produced from x, but the keys and values come from some other external source (e.g. an encoder module).\n",
    "* \"Scaled\" attention additional divides `weight` by 1/sqrt(head_size). This makes it so when input Q, K are unit variance, `weight` will be unit variance too and Softmax will stay diffuse and not saturate too much."
   ]
  },
  {
   "cell_type": "code",
   "execution_count": 18,
   "metadata": {},
   "outputs": [
    {
     "name": "stdout",
     "output_type": "stream",
     "text": [
      "torch.Size([4, 8, 8])\n",
      "torch.Size([4, 8, 16])\n"
     ]
    }
   ],
   "source": [
    "# version 4: self-attention\n",
    "B, T, C = 4, 8, 32  # batch, time, channels\n",
    "x = torch.randn(B, T, C)\n",
    "\n",
    "# single head self-attention\n",
    "head_size = 16\n",
    "key = nn.Linear(C, head_size, bias=False)\n",
    "query = nn.Linear(C, head_size, bias=False)\n",
    "value = nn.Linear(C, head_size, bias=False)\n",
    "\n",
    "k = key(x)  # (B, T, 16)\n",
    "q = query(x)  # (B, T, 16)\n",
    "v = value(x)  # (B, T, 16)\n",
    "\n",
    "weight4 = q @ k.transpose(-2, -1)  # (B, T, 16) @ (B, 16, T) -> (B, T, T)\n",
    "tril = torch.tril(torch.ones(T, T))\n",
    "weight4 = weight4.masked_fill(tril == 0, float('-inf'))\n",
    "weight4 = F.softmax(weight4, dim=-1)\n",
    "print(weight4.shape)  # (B, T, T)\n",
    "out = weight4 @ v  # (B, T, T) @ (B, T, head_size) -> (B, T, head_size)\n",
    "print(out.shape)"
   ]
  },
  {
   "cell_type": "code",
   "execution_count": null,
   "metadata": {},
   "outputs": [],
   "source": []
  }
 ],
 "metadata": {
  "kernelspec": {
   "display_name": "Python 3",
   "language": "python",
   "name": "python3"
  },
  "language_info": {
   "codemirror_mode": {
    "name": "ipython",
    "version": 3
   },
   "file_extension": ".py",
   "mimetype": "text/x-python",
   "name": "python",
   "nbconvert_exporter": "python",
   "pygments_lexer": "ipython3",
   "version": "3.9.15"
  },
  "orig_nbformat": 4,
  "vscode": {
   "interpreter": {
    "hash": "8e42f3838ceb5bba58f04d3a291ef6bcf1cf0a2a88f1772688a23bfd93976727"
   }
  }
 },
 "nbformat": 4,
 "nbformat_minor": 2
}

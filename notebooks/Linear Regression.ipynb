{
 "cells": [
  {
   "cell_type": "code",
   "execution_count": 1,
   "metadata": {
    "collapsed": true
   },
   "outputs": [],
   "source": [
    "import torch\n",
    "import torch.nn as nn\n",
    "import numpy as np\n",
    "import matplotlib.pyplot as plt"
   ]
  },
  {
   "cell_type": "code",
   "execution_count": 55,
   "metadata": {
    "collapsed": true
   },
   "outputs": [],
   "source": [
    "# dataset\n",
    "train_x = np.array([[3.3], [4.4], [5.5], [6.71], [6.93], [4.168], \n",
    "                    [9.779], [6.182], [7.59], [2.167], [7.042], \n",
    "                    [10.791], [5.313], [7.997], [3.1], [5.2], [5.0], \n",
    "                    [0.1], [1.0], [2.0], [3.0], [1.9], [1.5], [1.2],\n",
    "                    [10.1], [20.5], [12.5], [15.2], [17.3]], dtype=np.float32)\n",
    "\n",
    "train_y = np.array([[1.7], [2.76], [2.09], [3.19], [1.694], [1.573], \n",
    "                    [3.366], [2.596], [2.53], [1.221], [2.827], \n",
    "                    [3.465], [1.65], [2.904], [1.3], [2.6], [2.55], \n",
    "                    [0.055], [0.49], [1.03], [1.59], [1.0], [0.81], [0.58],\n",
    "                    [5.6], [10.25], [6.9], [7.8], [9.1]], dtype=np.float32)"
   ]
  },
  {
   "cell_type": "code",
   "execution_count": 59,
   "metadata": {
    "collapsed": true
   },
   "outputs": [],
   "source": [
    "class LinearRegression(torch.nn.Module):\n",
    "    def __init__(self, in_features, learning_rate=0.01, epoch=1, l1_weight=0, l2_weight=0):\n",
    "        super(LinearRegression, self).__init__()\n",
    "        self.model = nn.Linear(in_features, 1)\n",
    "        self.learning_rate = learning_rate\n",
    "        self.epoch = epoch\n",
    "        self.l1_weight = l1_weight\n",
    "        self.l2_weight = l2_weight\n",
    "        self.criterion = nn.MSELoss()\n",
    "        self.optimizer = torch.optim.SGD(self.model.parameters(), lr=self.learning_rate)\n",
    "    \n",
    "    def train(self, batch_x, batch_y, model_name='linear_regression.model', output_log_freq=0):\n",
    "        \"\"\"\n",
    "        batch_x - Tensor of input training samples with type torch.Tensor.\n",
    "        batch_y - Tensor of input training labels with type torch.Tensor.\n",
    "        output_log_freq - The frequency of printing the progress.\n",
    "        \"\"\"\n",
    "        for e in range(self.epoch):\n",
    "            # Forward pass\n",
    "            output = self.model(batch_x)\n",
    "            # Calculate loss\n",
    "            params = torch.cat([x.view(-1) for x in self.model.parameters()])\n",
    "            l1_loss = 0 if self.l1_weight == 0 else torch.norm(params, 1)\n",
    "            l2_loss = 0 if self.l2_weight == 0 else torch.norm(params, 2)\n",
    "            loss = self.criterion(output, batch_y) + self.l1_weight * l1_loss + self.l2_weight * l2_loss\n",
    "            # Update weights\n",
    "            self.optimizer.zero_grad()\n",
    "            loss.backward()\n",
    "            self.optimizer.step()\n",
    "            \n",
    "            if output_log_freq and (e + 1) % output_log_freq == 0:\n",
    "                print('Epoch %d/%d, MSE loss: %.5f' % (e + 1, self.epoch, loss.item()))\n",
    "        if model_name:\n",
    "            torch.save(self.model.state_dict(), model_name)\n",
    "    \n",
    "    def predict(self, batch_x):\n",
    "        \"\"\"\n",
    "        Predict the output with given features.\n",
    "        batch_x - Input training samples with type Tensor.\n",
    "        \"\"\"\n",
    "        return self.model(batch_x).detach().numpy()"
   ]
  },
  {
   "cell_type": "code",
   "execution_count": 60,
   "metadata": {},
   "outputs": [
    {
     "name": "stdout",
     "output_type": "stream",
     "text": [
      "Epoch 100/1000, MSE loss: 0.50383\n",
      "Epoch 200/1000, MSE loss: 0.47024\n",
      "Epoch 300/1000, MSE loss: 0.46247\n",
      "Epoch 400/1000, MSE loss: 0.46068\n",
      "Epoch 500/1000, MSE loss: 0.46026\n",
      "Epoch 600/1000, MSE loss: 0.46017\n",
      "Epoch 700/1000, MSE loss: 0.46015\n",
      "Epoch 800/1000, MSE loss: 0.46014\n",
      "Epoch 900/1000, MSE loss: 0.46014\n",
      "Epoch 1000/1000, MSE loss: 0.46014\n"
     ]
    },
    {
     "data": {
      "image/png": "[encoded data removed]",
      "text/plain": [
       "<matplotlib.figure.Figure at 0x11c8a42e8>"
      ]
     },
     "metadata": {},
     "output_type": "display_data"
    }
   ],
   "source": [
    "# Prepare the data\n",
    "batch_x = torch.from_numpy(train_x)\n",
    "batch_y = torch.from_numpy(train_y)\n",
    "# Initiate the model\n",
    "lr = LinearRegression(in_features=1, learning_rate=0.01, epoch=1000, l1_weight=0.001, l2_weight=0.001)\n",
    "lr.train(batch_x, batch_y, output_log_freq=100)\n",
    "# Plot the graph\n",
    "predicted = lr.predict(batch_x)\n",
    "plt.plot(train_x, train_y, 'ro', label='Original')\n",
    "plt.plot(train_x, predicted, label='Fitted')\n",
    "plt.legend()\n",
    "plt.show()"
   ]
  },
  {
   "cell_type": "code",
   "execution_count": null,
   "metadata": {
    "collapsed": true
   },
   "outputs": [],
   "source": []
  }
 ],
 "metadata": {
  "kernelspec": {
   "display_name": "Python 3",
   "language": "python",
   "name": "python3"
  },
  "language_info": {
   "codemirror_mode": {
    "name": "ipython",
    "version": 3
   },
   "file_extension": ".py",
   "mimetype": "text/x-python",
   "name": "python",
   "nbconvert_exporter": "python",
   "pygments_lexer": "ipython3",
   "version": "3.6.9"
  }
 },
 "nbformat": 4,
 "nbformat_minor": 2
}

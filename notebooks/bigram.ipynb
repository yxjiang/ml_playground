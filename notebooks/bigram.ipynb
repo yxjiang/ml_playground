{
 "cells": [
  {
   "cell_type": "code",
   "execution_count": 5,
   "metadata": {},
   "outputs": [
    {
     "name": "stdout",
     "output_type": "stream",
     "text": [
      "length of dataset in characters:  1115394\n"
     ]
    }
   ],
   "source": [
    "# read file\n",
    "with open('../samples/tinyshakespeare.txt', 'r', encoding='utf-8') as f:\n",
    "    text = f.read()\n",
    "print(\"length of dataset in characters: \", len(text))"
   ]
  },
  {
   "cell_type": "code",
   "execution_count": 6,
   "metadata": {},
   "outputs": [
    {
     "name": "stdout",
     "output_type": "stream",
     "text": [
      "['\\n', ' ', '!', '$', '&', \"'\", ',', '-', '.', '3', ':', ';', '?', 'A', 'B', 'C', 'D', 'E', 'F', 'G', 'H', 'I', 'J', 'K', 'L', 'M', 'N', 'O', 'P', 'Q', 'R', 'S', 'T', 'U', 'V', 'W', 'X', 'Y', 'Z', 'a', 'b', 'c', 'd', 'e', 'f', 'g', 'h', 'i', 'j', 'k', 'l', 'm', 'n', 'o', 'p', 'q', 'r', 's', 't', 'u', 'v', 'w', 'x', 'y', 'z']\n",
      "65\n"
     ]
    }
   ],
   "source": [
    "# basic stats\n",
    "chars = sorted(list(set(text)))\n",
    "vocab_size = len(chars)\n",
    "print(chars)\n",
    "print(vocab_size)"
   ]
  },
  {
   "cell_type": "code",
   "execution_count": 7,
   "metadata": {},
   "outputs": [
    {
     "name": "stdout",
     "output_type": "stream",
     "text": [
      "[18, 47, 56, 57, 58, 1, 15, 47, 58, 47, 64, 43, 52, 10, 0, 14, 43, 44, 53, 56, 43, 1, 61, 43, 1, 54, 56, 53, 41, 43, 43, 42, 1, 39, 52, 63, 1, 44, 59, 56, 58, 46, 43, 56, 6, 1, 46, 43, 39, 56, 1, 51, 43, 1, 57, 54, 43, 39, 49, 8, 0, 0, 13, 50, 50, 10, 0, 31, 54, 43, 39, 49, 6, 1, 57, 54, 43, 39, 49, 8, 0, 0, 18, 47, 56, 57, 58, 1, 15, 47, 58, 47, 64, 43, 52, 10, 0, 37, 53, 59]\n",
      "First Citizen:\n",
      "Before we proceed any further, hear me speak.\n",
      "\n",
      "All:\n",
      "Speak, speak.\n",
      "\n",
      "First Citizen:\n",
      "You\n"
     ]
    }
   ],
   "source": [
    "# character encoder/decoder\n",
    "atoi = { ch: i for i, ch in enumerate(chars) }\n",
    "itoa = { i: ch for i, ch in enumerate(chars) }\n",
    "encode = lambda s: [atoi[ch] for ch in s]\n",
    "decode = lambda l: ''.join([itoa[i] for i in l])\n",
    "\n",
    "print(encode(text[:100]))\n",
    "print(decode(encode(text[:100])))"
   ]
  },
  {
   "cell_type": "code",
   "execution_count": 8,
   "metadata": {},
   "outputs": [
    {
     "name": "stdout",
     "output_type": "stream",
     "text": [
      "torch.Size([1115394]) torch.int64\n",
      "tensor([18, 47, 56, 57, 58,  1, 15, 47, 58, 47, 64, 43, 52, 10,  0, 14, 43, 44,\n",
      "        53, 56, 43,  1, 61, 43,  1, 54, 56, 53, 41, 43, 43, 42,  1, 39, 52, 63,\n",
      "         1, 44, 59, 56, 58, 46, 43, 56,  6,  1, 46, 43, 39, 56,  1, 51, 43,  1,\n",
      "        57, 54, 43, 39, 49,  8,  0,  0, 13, 50, 50, 10,  0, 31, 54, 43, 39, 49,\n",
      "         6,  1, 57, 54, 43, 39, 49,  8,  0,  0, 18, 47, 56, 57, 58,  1, 15, 47,\n",
      "        58, 47, 64, 43, 52, 10,  0, 37, 53, 59])\n"
     ]
    }
   ],
   "source": [
    "# encode the entire dataset\n",
    "import torch\n",
    "\n",
    "data = torch.tensor(encode(text), dtype=torch.long)\n",
    "print(data.shape, data.dtype)\n",
    "print(data[:100])"
   ]
  },
  {
   "cell_type": "code",
   "execution_count": 11,
   "metadata": {},
   "outputs": [],
   "source": [
    "# separate the dataset\n",
    "n = int(0.9 * len(data))\n",
    "train_data = data[:n]\n",
    "validation_data = data[n:]"
   ]
  },
  {
   "cell_type": "code",
   "execution_count": 12,
   "metadata": {},
   "outputs": [
    {
     "name": "stdout",
     "output_type": "stream",
     "text": [
      "when input is tensor([18]) the target: 47\n",
      "when input is tensor([18, 47]) the target: 56\n",
      "when input is tensor([18, 47, 56]) the target: 57\n",
      "when input is tensor([18, 47, 56, 57]) the target: 58\n",
      "when input is tensor([18, 47, 56, 57, 58]) the target: 1\n",
      "when input is tensor([18, 47, 56, 57, 58,  1]) the target: 15\n",
      "when input is tensor([18, 47, 56, 57, 58,  1, 15]) the target: 47\n",
      "when input is tensor([18, 47, 56, 57, 58,  1, 15, 47]) the target: 58\n"
     ]
    }
   ],
   "source": [
    "# example of a batch of training samples\n",
    "sequence_length = 8\n",
    "x = train_data[:sequence_length]\n",
    "y = train_data[1:sequence_length + 1]\n",
    "for t in range(sequence_length):\n",
    "    context = x[:t + 1]\n",
    "    target = y[t]\n",
    "    print(f\"when input is {context} the target: {target}\")"
   ]
  },
  {
   "cell_type": "code",
   "execution_count": 31,
   "metadata": {},
   "outputs": [
    {
     "name": "stdout",
     "output_type": "stream",
     "text": [
      "inputs:\n",
      "torch.Size([4, 8])\n",
      "tensor([[57, 41, 53, 60, 43, 56, 63,  1],\n",
      "        [53, 49, 43, 52, 10,  0, 37, 53],\n",
      "        [56, 43, 51, 47, 58, 47, 43, 57],\n",
      "        [41, 46,  1, 42, 39, 56, 49, 43]])\n",
      "targets:\n",
      "torch.Size([4, 8])\n",
      "tensor([[41, 53, 60, 43, 56, 63,  1, 50],\n",
      "        [49, 43, 52, 10,  0, 37, 53, 59],\n",
      "        [43, 51, 47, 58, 47, 43, 57,  1],\n",
      "        [46,  1, 42, 39, 56, 49, 43, 52]])\n",
      "------\n",
      "input: tensor([57]), target: 41\n",
      "input: tensor([57, 41]), target: 53\n",
      "input: tensor([57, 41, 53]), target: 60\n",
      "input: tensor([57, 41, 53, 60]), target: 43\n",
      "input: tensor([57, 41, 53, 60, 43]), target: 56\n",
      "input: tensor([57, 41, 53, 60, 43, 56]), target: 63\n",
      "input: tensor([57, 41, 53, 60, 43, 56, 63]), target: 1\n",
      "input: tensor([57, 41, 53, 60, 43, 56, 63,  1]), target: 50\n",
      "input: tensor([53]), target: 49\n",
      "input: tensor([53, 49]), target: 43\n",
      "input: tensor([53, 49, 43]), target: 52\n",
      "input: tensor([53, 49, 43, 52]), target: 10\n",
      "input: tensor([53, 49, 43, 52, 10]), target: 0\n",
      "input: tensor([53, 49, 43, 52, 10,  0]), target: 37\n",
      "input: tensor([53, 49, 43, 52, 10,  0, 37]), target: 53\n",
      "input: tensor([53, 49, 43, 52, 10,  0, 37, 53]), target: 59\n",
      "input: tensor([56]), target: 43\n",
      "input: tensor([56, 43]), target: 51\n",
      "input: tensor([56, 43, 51]), target: 47\n",
      "input: tensor([56, 43, 51, 47]), target: 58\n",
      "input: tensor([56, 43, 51, 47, 58]), target: 47\n",
      "input: tensor([56, 43, 51, 47, 58, 47]), target: 43\n",
      "input: tensor([56, 43, 51, 47, 58, 47, 43]), target: 57\n",
      "input: tensor([56, 43, 51, 47, 58, 47, 43, 57]), target: 1\n",
      "input: tensor([41]), target: 46\n",
      "input: tensor([41, 46]), target: 1\n",
      "input: tensor([41, 46,  1]), target: 42\n",
      "input: tensor([41, 46,  1, 42]), target: 39\n",
      "input: tensor([41, 46,  1, 42, 39]), target: 56\n",
      "input: tensor([41, 46,  1, 42, 39, 56]), target: 49\n",
      "input: tensor([41, 46,  1, 42, 39, 56, 49]), target: 43\n",
      "input: tensor([41, 46,  1, 42, 39, 56, 49, 43]), target: 52\n"
     ]
    }
   ],
   "source": [
    "# example of a batch\n",
    "batch_size = 4\n",
    "sequence_length = 8  # the maximum length for prediction\n",
    "\n",
    "def get_batch(split):\n",
    "    data = train_data if split == 'train' else validation_data\n",
    "    # random sampling subsequence starting positions from the dataset\n",
    "    sampled_pos = torch.randint(len(data) - sequence_length, size=(batch_size, ))\n",
    "    x = torch.stack([data[i : i + sequence_length] for i in sampled_pos])\n",
    "    y = torch.stack([data[i + 1 : i + sequence_length + 1] for i in sampled_pos])\n",
    "    return x, y\n",
    "\n",
    "x_batch, y_batch = get_batch('train')\n",
    "print('inputs:')\n",
    "print(x_batch.shape)\n",
    "print(x_batch)\n",
    "print('targets:')\n",
    "print(y_batch.shape)\n",
    "print(y_batch)\n",
    "\n",
    "print('------')\n",
    "for ib in range(batch_size):\n",
    "    for it in range(sequence_length):\n",
    "        context = x_batch[ib, :it + 1]\n",
    "        target = y_batch[ib, it]\n",
    "        print(f\"input: {context}, target: {target}\")"
   ]
  },
  {
   "cell_type": "code",
   "execution_count": 32,
   "metadata": {},
   "outputs": [
    {
     "name": "stdout",
     "output_type": "stream",
     "text": [
      "torch.Size([32, 65])\n",
      "tensor(4.7504, grad_fn=<NllLossBackward0>)\n",
      "generated_sequence shape: torch.Size([1, 101])\n",
      "generated sequence: \n",
      "rExM,,\n",
      "a!zDkA3V.\n",
      "yqVp&a.a'FVXdGJC n&SvYIqzbSHVa\n",
      "Haa-,of\n",
      "MVa3o;HRBQg33333jzA?pv.Y?SCUJd;YYp3Py,WffFfk\n"
     ]
    }
   ],
   "source": [
    "# a simple bigram LM\n",
    "import torch\n",
    "import torch.nn as nn\n",
    "from torch.nn import functional as F\n",
    "\n",
    "class BigramLM(nn.Module):\n",
    "\n",
    "    def __init__(self, vocab_size):\n",
    "        super().__init__()\n",
    "        self.token_embedding_table = nn .Embedding(vocab_size, vocab_size)\n",
    "\n",
    "    def forward(self, idx, targets=None):\n",
    "        # idx and targets are both with size (B, T)\n",
    "        logits = self.token_embedding_table(idx)  # (B, T, C), where C = vocab_size\n",
    "\n",
    "        if targets is None:\n",
    "            loss = None\n",
    "        else:\n",
    "            B, T, C = logits.shape\n",
    "            # reshape as cross_entropy receive channel as the second dimension.\n",
    "            logits = logits.view(B * T, C)\n",
    "            targets = targets.view(B * T)\n",
    "            loss = F.cross_entropy(logits, targets)\n",
    "        return logits, loss\n",
    "\n",
    "    def generate(self, idx, max_new_tokens):\n",
    "        \"\"\"Generate the next character.\"\"\"\n",
    "        # idx is (B, T) array of indices in the current context.\n",
    "        for _ in range(max_new_tokens):\n",
    "            # get the predictions\n",
    "            logits, loss = self(idx)\n",
    "            # only need the last in the sequence even the entire sequence is available. This is how the bigram model works.\n",
    "            logits = logits[:, -1, :]  # (B, T, C) -> (B, C)\n",
    "            # apply softmax to get probabilities\n",
    "            probs = F.softmax(logits, dim=-1)  # (B, C)\n",
    "            # sample from the distribution\n",
    "            idx_next = torch.multinomial(probs, num_samples=1)\n",
    "            # append sampled index to the running sequence\n",
    "            idx = torch.cat((idx, idx_next), dim=1)  # (B, T + 1)\n",
    "        return idx\n",
    "    \n",
    "\n",
    "     \n",
    "\n",
    "blm = BigramLM(vocab_size)\n",
    "out, loss = blm(x_batch, y_batch)\n",
    "print(out.shape)\n",
    "print(loss)\n",
    "\n",
    "# The input sequence represented by idx.\n",
    "idx = torch.zeros((1, 1), dtype=torch.long)\n",
    "# generated sequence with length 100\n",
    "generated_sequence = blm.generate(idx, max_new_tokens=100)\n",
    "print(f\"generated_sequence shape: {generated_sequence.shape}\")\n",
    "print(f'generated sequence: {decode(generated_sequence[0].tolist())}')\n"
   ]
  },
  {
   "cell_type": "code",
   "execution_count": 33,
   "metadata": {},
   "outputs": [],
   "source": [
    "# optimizer\n",
    "optimizer = torch.optim.AdamW(blm.parameters(), lr=1e-3)"
   ]
  },
  {
   "cell_type": "code",
   "execution_count": 37,
   "metadata": {},
   "outputs": [
    {
     "name": "stdout",
     "output_type": "stream",
     "text": [
      "0: loss: 2.387354850769043\n",
      "100: loss: 2.3983991146087646\n",
      "200: loss: 2.5503296852111816\n",
      "300: loss: 2.451212167739868\n",
      "400: loss: 2.4221627712249756\n",
      "500: loss: 2.412201404571533\n",
      "600: loss: 2.4494588375091553\n",
      "700: loss: 2.4233133792877197\n",
      "800: loss: 2.576375722885132\n",
      "900: loss: 2.5179200172424316\n",
      "1000: loss: 2.439497709274292\n",
      "1100: loss: 2.30306339263916\n",
      "1200: loss: 2.6035003662109375\n",
      "1300: loss: 2.532226800918579\n",
      "1400: loss: 2.4742531776428223\n",
      "1500: loss: 2.4114925861358643\n",
      "1600: loss: 2.5322859287261963\n",
      "1700: loss: 2.479283094406128\n",
      "1800: loss: 2.477593183517456\n",
      "1900: loss: 2.6023712158203125\n",
      "2000: loss: 2.302628517150879\n",
      "2100: loss: 2.5529701709747314\n",
      "2200: loss: 2.390684127807617\n",
      "2300: loss: 2.5232696533203125\n",
      "2400: loss: 2.486433744430542\n",
      "2500: loss: 2.456812620162964\n",
      "2600: loss: 2.416308641433716\n",
      "2700: loss: 2.4526450634002686\n",
      "2800: loss: 2.447007417678833\n",
      "2900: loss: 2.437631130218506\n",
      "3000: loss: 2.5642058849334717\n",
      "3100: loss: 2.4085869789123535\n",
      "3200: loss: 2.4282164573669434\n",
      "3300: loss: 2.3976874351501465\n",
      "3400: loss: 2.467428684234619\n",
      "3500: loss: 2.5278091430664062\n",
      "3600: loss: 2.5271542072296143\n",
      "3700: loss: 2.5372910499572754\n",
      "3800: loss: 2.4617693424224854\n",
      "3900: loss: 2.6000149250030518\n",
      "4000: loss: 2.3675615787506104\n",
      "4100: loss: 2.451526403427124\n",
      "4200: loss: 2.41707181930542\n",
      "4300: loss: 2.3776915073394775\n",
      "4400: loss: 2.6629292964935303\n",
      "4500: loss: 2.5052459239959717\n",
      "4600: loss: 2.504432439804077\n",
      "4700: loss: 2.4138283729553223\n",
      "4800: loss: 2.527580499649048\n",
      "4900: loss: 2.518505573272705\n",
      "5000: loss: 2.3621389865875244\n",
      "5100: loss: 2.382260799407959\n",
      "5200: loss: 2.5361244678497314\n",
      "5300: loss: 2.3579330444335938\n",
      "5400: loss: 2.511632204055786\n",
      "5500: loss: 2.4605515003204346\n",
      "5600: loss: 2.477254867553711\n",
      "5700: loss: 2.4305694103240967\n",
      "5800: loss: 2.415320873260498\n",
      "5900: loss: 2.477285623550415\n",
      "6000: loss: 2.532759189605713\n",
      "6100: loss: 2.531118392944336\n",
      "6200: loss: 2.4323954582214355\n",
      "6300: loss: 2.462109327316284\n",
      "6400: loss: 2.402312994003296\n",
      "6500: loss: 2.4001736640930176\n",
      "6600: loss: 2.3235840797424316\n",
      "6700: loss: 2.4746124744415283\n",
      "6800: loss: 2.345050573348999\n",
      "6900: loss: 2.412949323654175\n",
      "7000: loss: 2.3459274768829346\n",
      "7100: loss: 2.39253830909729\n",
      "7200: loss: 2.500929355621338\n",
      "7300: loss: 2.407078504562378\n",
      "7400: loss: 2.432058811187744\n",
      "7500: loss: 2.4457263946533203\n",
      "7600: loss: 2.5050039291381836\n",
      "7700: loss: 2.4491119384765625\n",
      "7800: loss: 2.5152597427368164\n",
      "7900: loss: 2.5009477138519287\n",
      "8000: loss: 2.3785886764526367\n",
      "8100: loss: 2.4070796966552734\n",
      "8200: loss: 2.539505958557129\n",
      "8300: loss: 2.580488681793213\n",
      "8400: loss: 2.4985949993133545\n",
      "8500: loss: 2.484555244445801\n",
      "8600: loss: 2.5181052684783936\n",
      "8700: loss: 2.558490037918091\n",
      "8800: loss: 2.459428071975708\n",
      "8900: loss: 2.454822063446045\n",
      "9000: loss: 2.507002115249634\n",
      "9100: loss: 2.381176471710205\n",
      "9200: loss: 2.501659870147705\n",
      "9300: loss: 2.527477264404297\n",
      "9400: loss: 2.3862454891204834\n",
      "9500: loss: 2.4244415760040283\n",
      "9600: loss: 2.4739058017730713\n",
      "9700: loss: 2.3968570232391357\n",
      "9800: loss: 2.5503814220428467\n",
      "9900: loss: 2.4766712188720703\n"
     ]
    }
   ],
   "source": [
    "# train\n",
    "batch_size = 32\n",
    "for step in range(10000):\n",
    "\n",
    "    # sample a batch of data\n",
    "    x_batch, y_batch = get_batch('train')\n",
    "\n",
    "    # evaluate the train loss\n",
    "    logits, loss = blm(x_batch, y_batch)\n",
    "    optimizer.zero_grad(set_to_none=True)  # reset the grad of the previous step\n",
    "    loss.backward()  # calculate the new grad\n",
    "    optimizer.step()  # perform weight update\n",
    "    if step % 100 == 0:\n",
    "        print(f'{step}: loss: {loss.item()}')"
   ]
  },
  {
   "cell_type": "code",
   "execution_count": 40,
   "metadata": {},
   "outputs": [
    {
     "name": "stdout",
     "output_type": "stream",
     "text": [
      "generated sequence: \n",
      "Bulo fangond ithof ngr, thiserircrd at'su coularus hale\n",
      "As eay abu LAndsadonen:\n",
      "Be, brth, sod sateespond u,\n",
      "I\n",
      "An ya ghananceingre.\n",
      "T:\n",
      "Buir us hare\n",
      "Tomoransme gee se.\n",
      "TZAUCEDutheadup. n, mangoknd far, ngn the I My RO:\n",
      "\n",
      "An wirr:\n",
      "Wacanatharegrdouth drore ss,\n",
      "NCEd gnseds ouriee Peten.\n",
      "O t s whe t;\n",
      "S:\n",
      "\n",
      "T\n"
     ]
    }
   ],
   "source": [
    "# reevaluate the output\n",
    "# The input sequence represented by idx.\n",
    "idx = torch.zeros((1, 1), dtype=torch.long)\n",
    "# generated sequence with length 100\n",
    "generated_sequence = blm.generate(idx, max_new_tokens=300)\n",
    "print(f'generated sequence: {decode(generated_sequence[0].tolist())}')"
   ]
  },
  {
   "cell_type": "code",
   "execution_count": null,
   "metadata": {},
   "outputs": [],
   "source": []
  }
 ],
 "metadata": {
  "kernelspec": {
   "display_name": "Python 3",
   "language": "python",
   "name": "python3"
  },
  "language_info": {
   "codemirror_mode": {
    "name": "ipython",
    "version": 3
   },
   "file_extension": ".py",
   "mimetype": "text/x-python",
   "name": "python",
   "nbconvert_exporter": "python",
   "pygments_lexer": "ipython3",
   "version": "3.9.15 (main, Nov 24 2022, 08:28:41) \n[Clang 14.0.6 ]"
  },
  "orig_nbformat": 4,
  "vscode": {
   "interpreter": {
    "hash": "8e42f3838ceb5bba58f04d3a291ef6bcf1cf0a2a88f1772688a23bfd93976727"
   }
  }
 },
 "nbformat": 4,
 "nbformat_minor": 2
}
